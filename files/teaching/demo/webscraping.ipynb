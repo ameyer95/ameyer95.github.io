{
 "cells": [
  {
   "cell_type": "code",
   "execution_count": 41,
   "metadata": {},
   "outputs": [],
   "source": [
    "# New module\n",
    "import requests\n",
    "\n",
    "# Known modules\n",
    "import json\n",
    "import pandas as pd\n"
   ]
  },
  {
   "cell_type": "markdown",
   "metadata": {},
   "source": [
    "## Review: JSON"
   ]
  },
  {
   "cell_type": "code",
   "execution_count": 42,
   "metadata": {},
   "outputs": [
    {
     "data": {
      "text/plain": [
       "{'alice': 100, 'bob': 200, 'cindy': 300}"
      ]
     },
     "execution_count": 42,
     "metadata": {},
     "output_type": "execute_result"
    }
   ],
   "source": [
    "# load json file from \"~/Downloads/scores.json\"\n",
    "filename = \"/Users/annameyer/Downloads/scores.json\"\n",
    "with open(filename, 'r') as f:\n",
    "    scores = json.load(f)\n",
    "scores"
   ]
  },
  {
   "cell_type": "markdown",
   "metadata": {},
   "source": [
    "What is the type of `scores`?"
   ]
  },
  {
   "cell_type": "code",
   "execution_count": 45,
   "metadata": {},
   "outputs": [
    {
     "data": {
      "text/plain": [
       "dict"
      ]
     },
     "execution_count": 45,
     "metadata": {},
     "output_type": "execute_result"
    }
   ],
   "source": [
    "type(scores)"
   ]
  },
  {
   "cell_type": "markdown",
   "metadata": {},
   "source": [
    "What are they keys in `scores`?"
   ]
  },
  {
   "cell_type": "code",
   "execution_count": 46,
   "metadata": {},
   "outputs": [
    {
     "data": {
      "text/plain": [
       "dict_keys(['alice', 'bob', 'cindy'])"
      ]
     },
     "execution_count": 46,
     "metadata": {},
     "output_type": "execute_result"
    }
   ],
   "source": [
    "scores.keys()"
   ]
  },
  {
   "cell_type": "markdown",
   "metadata": {},
   "source": [
    "What is the value of `scores[\"bob\"]`?"
   ]
  },
  {
   "cell_type": "code",
   "execution_count": 47,
   "metadata": {},
   "outputs": [
    {
     "data": {
      "text/plain": [
       "200"
      ]
     },
     "execution_count": 47,
     "metadata": {},
     "output_type": "execute_result"
    }
   ],
   "source": [
    "scores[\"bob\"]"
   ]
  },
  {
   "cell_type": "markdown",
   "metadata": {},
   "source": [
    "Let's look at a more interesting JSON file.\n",
    "\n",
    "Kiva is a microlending platform that gives out small loans to people around the world.\n",
    "\n",
    "We'll load in a JSON file containing details about people who got loans through Kiva."
   ]
  },
  {
   "cell_type": "code",
   "execution_count": 48,
   "metadata": {},
   "outputs": [],
   "source": [
    "filename = \"/Users/annameyer/Downloads/kiva.json\"\n",
    "with open(filename, 'r') as f:\n",
    "    kiva = json.load(f) "
   ]
  },
  {
   "cell_type": "markdown",
   "metadata": {},
   "source": [
    "The file is large, so we won't print it all."
   ]
  },
  {
   "cell_type": "code",
   "execution_count": 49,
   "metadata": {},
   "outputs": [
    {
     "data": {
      "text/plain": [
       "dict"
      ]
     },
     "execution_count": 49,
     "metadata": {},
     "output_type": "execute_result"
    }
   ],
   "source": [
    "# print type\n",
    "type(kiva)"
   ]
  },
  {
   "cell_type": "code",
   "execution_count": 50,
   "metadata": {},
   "outputs": [
    {
     "data": {
      "text/plain": [
       "dict_keys(['data'])"
      ]
     },
     "execution_count": 50,
     "metadata": {},
     "output_type": "execute_result"
    }
   ],
   "source": [
    "# print keys\n",
    "kiva.keys()"
   ]
  },
  {
   "cell_type": "code",
   "execution_count": 51,
   "metadata": {},
   "outputs": [
    {
     "data": {
      "text/plain": [
       "dict"
      ]
     },
     "execution_count": 51,
     "metadata": {},
     "output_type": "execute_result"
    }
   ],
   "source": [
    "# explore data\n",
    "type(kiva[\"data\"])"
   ]
  },
  {
   "cell_type": "code",
   "execution_count": 52,
   "metadata": {},
   "outputs": [
    {
     "data": {
      "text/plain": [
       "dict_keys(['lend'])"
      ]
     },
     "execution_count": 52,
     "metadata": {},
     "output_type": "execute_result"
    }
   ],
   "source": [
    "kiva[\"data\"].keys()"
   ]
  },
  {
   "cell_type": "markdown",
   "metadata": {},
   "source": [
    "We'll continue through this process until eventually we reach data (usually, when it stops being a dictionary)"
   ]
  },
  {
   "cell_type": "code",
   "execution_count": 53,
   "metadata": {},
   "outputs": [
    {
     "data": {
      "text/plain": [
       "list"
      ]
     },
     "execution_count": 53,
     "metadata": {},
     "output_type": "execute_result"
    }
   ],
   "source": [
    "type(kiva['data']['lend']['loans']['values'])"
   ]
  },
  {
   "cell_type": "code",
   "execution_count": 54,
   "metadata": {},
   "outputs": [
    {
     "data": {
      "text/plain": [
       "dict"
      ]
     },
     "execution_count": 54,
     "metadata": {},
     "output_type": "execute_result"
    }
   ],
   "source": [
    "type(kiva['data']['lend']['loans']['values'][0])"
   ]
  },
  {
   "cell_type": "code",
   "execution_count": 55,
   "metadata": {},
   "outputs": [
    {
     "data": {
      "text/plain": [
       "dict_keys(['name', 'description', 'loanAmount', 'geocode'])"
      ]
     },
     "execution_count": 55,
     "metadata": {},
     "output_type": "execute_result"
    }
   ],
   "source": [
    "kiva['data']['lend']['loans']['values'][0].keys()"
   ]
  },
  {
   "cell_type": "markdown",
   "metadata": {},
   "source": [
    "Print the name of each loan recipient"
   ]
  },
  {
   "cell_type": "code",
   "execution_count": 56,
   "metadata": {},
   "outputs": [
    {
     "name": "stdout",
     "output_type": "stream",
     "text": [
      "Polikseni\n",
      "Safarmo\n",
      "Elizabeth\n",
      "Ester\n",
      "Cherifa\n"
     ]
    }
   ],
   "source": [
    "# print the name of each person\n",
    "for i in kiva['data']['lend']['loans']['values']:\n",
    "    print(i['name'])"
   ]
  },
  {
   "cell_type": "markdown",
   "metadata": {},
   "source": [
    "See what Elizabeth's loan amount was, and what country she lives in"
   ]
  },
  {
   "cell_type": "code",
   "execution_count": 57,
   "metadata": {},
   "outputs": [
    {
     "name": "stdout",
     "output_type": "stream",
     "text": [
      "<class 'dict'>\n",
      "dict_keys(['city', 'country'])\n",
      "<class 'dict'>\n",
      "dict_keys(['name', 'region', 'fundsLentInCountry'])\n"
     ]
    }
   ],
   "source": [
    "# first, see structure of geocode\n",
    "print(type(kiva['data']['lend']['loans']['values'][0]['geocode']))\n",
    "print(kiva['data']['lend']['loans']['values'][0]['geocode'].keys())\n",
    "print(type(kiva['data']['lend']['loans']['values'][0]['geocode']['country']))\n",
    "print(kiva['data']['lend']['loans']['values'][0]['geocode']['country'].keys())\n"
   ]
  },
  {
   "cell_type": "code",
   "execution_count": 58,
   "metadata": {},
   "outputs": [
    {
     "name": "stdout",
     "output_type": "stream",
     "text": [
      "800.00\n",
      "Kenya\n"
     ]
    }
   ],
   "source": [
    "# iterate through kiva['data']['lend']['loans']['values']\n",
    "for i in kiva['data']['lend']['loans']['values']:\n",
    "    if i[\"name\"] == \"Elizabeth\":\n",
    "        print(i[\"loanAmount\"])\n",
    "        print(i[\"geocode\"][\"country\"][\"name\"])"
   ]
  },
  {
   "cell_type": "markdown",
   "metadata": {},
   "source": [
    "## Warm up: Scraping text\n",
    "The easiest case is when a webpage contains only text, such as [https://raw.githubusercontent.com/annapmeyer/annapmeyer.github.io/refs/heads/anna/files/teaching/demo/hello.txt](https://raw.githubusercontent.com/annapmeyer/annapmeyer.github.io/refs/heads/anna/files/teaching/demo/hello.txt)\n",
    "\n",
    "We'll use the Python library `requests`."
   ]
  },
  {
   "cell_type": "code",
   "execution_count": 4,
   "metadata": {},
   "outputs": [
    {
     "name": "stdout",
     "output_type": "stream",
     "text": [
      "200\n",
      "Hello students! This is a text file.\n"
     ]
    }
   ],
   "source": [
    "url = \"https://raw.githubusercontent.com/annapmeyer/annapmeyer.github.io/refs/heads/anna/files/teaching/demo/hello.txt\"\n",
    "r = requests.get(url) # r is the response\n",
    "print(r.status_code)\n",
    "print(r.text)"
   ]
  },
  {
   "cell_type": "code",
   "execution_count": 5,
   "metadata": {},
   "outputs": [
    {
     "name": "stdout",
     "output_type": "stream",
     "text": [
      "404\n",
      "404: Not Found\n"
     ]
    }
   ],
   "source": [
    "typo_url = \"https://raw.githubusercontent.com/annapmeyer/annapmeyer.github.io/refs/heads/anna/files/teaching/demo/hello.txttttt\"\n",
    "r = requests.get(typo_url)\n",
    "print(r.status_code)\n",
    "print(r.text)"
   ]
  },
  {
   "cell_type": "code",
   "execution_count": 60,
   "metadata": {},
   "outputs": [
    {
     "ename": "AssertionError",
     "evalue": "",
     "output_type": "error",
     "traceback": [
      "\u001b[0;31m---------------------------------------------------------------------------\u001b[0m",
      "\u001b[0;31mAssertionError\u001b[0m                            Traceback (most recent call last)",
      "Cell \u001b[0;32mIn[60], line 4\u001b[0m\n\u001b[1;32m      2\u001b[0m typo_url \u001b[38;5;241m=\u001b[39m \u001b[38;5;124m\"\u001b[39m\u001b[38;5;124mhttps://raw.githubusercontent.com/annapmeyer/annapmeyer.github.io/refs/heads/anna/files/teaching/demo/hello.txttttt\u001b[39m\u001b[38;5;124m\"\u001b[39m\n\u001b[1;32m      3\u001b[0m r \u001b[38;5;241m=\u001b[39m requests\u001b[38;5;241m.\u001b[39mget(typo_url)\n\u001b[0;32m----> 4\u001b[0m \u001b[38;5;28;01massert\u001b[39;00m r\u001b[38;5;241m.\u001b[39mstatus_code \u001b[38;5;241m==\u001b[39m \u001b[38;5;241m200\u001b[39m\n\u001b[1;32m      5\u001b[0m \u001b[38;5;28mprint\u001b[39m(r\u001b[38;5;241m.\u001b[39mstatus_code)\n\u001b[1;32m      6\u001b[0m \u001b[38;5;28mprint\u001b[39m(r\u001b[38;5;241m.\u001b[39mtext)\n",
      "\u001b[0;31mAssertionError\u001b[0m: "
     ]
    }
   ],
   "source": [
    "# We can check for a status_code error by using an assert\n",
    "typo_url = \"https://raw.githubusercontent.com/annapmeyer/annapmeyer.github.io/refs/heads/anna/files/teaching/demo/hello.txttttt\"\n",
    "r = requests.get(typo_url)\n",
    "assert r.status_code == 200\n",
    "print(r.status_code)\n",
    "print(r.text)"
   ]
  },
  {
   "cell_type": "code",
   "execution_count": 61,
   "metadata": {},
   "outputs": [
    {
     "name": "stdout",
     "output_type": "stream",
     "text": [
      "oops!! 404 Client Error: Not Found for url: https://raw.githubusercontent.com/annapmeyer/annapmeyer.github.io/refs/heads/anna/files/teaching/demo/hello.txttttt\n"
     ]
    }
   ],
   "source": [
    "# Let's try to catch that error\n",
    "\n",
    "try:\n",
    "    r = requests.get(typo_url)\n",
    "    r.raise_for_status() #similar to asserting r.status_code == 200\n",
    "    print(r.text)\n",
    "except requests.HTTPError as e:\n",
    "    print(\"oops!!\", e)\n",
    "    "
   ]
  },
  {
   "cell_type": "markdown",
   "metadata": {},
   "source": [
    "## Scraping JSON"
   ]
  },
  {
   "cell_type": "markdown",
   "metadata": {},
   "source": [
    "- `json.load` (FILE_OBJECT)\n",
    "- `json.loads` (STRING)"
   ]
  },
  {
   "cell_type": "code",
   "execution_count": 9,
   "metadata": {},
   "outputs": [
    {
     "name": "stdout",
     "output_type": "stream",
     "text": [
      "{\n",
      "    \"alice\": 100,\n",
      "    \"bob\": 200,\n",
      "    \"cindy\": 300\n",
      "}\n",
      "<class 'dict'> {'alice': 100, 'bob': 200, 'cindy': 300}\n"
     ]
    }
   ],
   "source": [
    "# GETting a JSON file, the long way\n",
    "url = \"https://raw.githubusercontent.com/annapmeyer/annapmeyer.github.io/refs/heads/anna/files/teaching/demo/scores.json\"\n",
    "r = requests.get(url)\n",
    "r.raise_for_status()\n",
    "urltext = r.text\n",
    "print(urltext)\n",
    "d = json.loads(urltext)\n",
    "print(type(d), d)"
   ]
  },
  {
   "cell_type": "code",
   "execution_count": 10,
   "metadata": {},
   "outputs": [
    {
     "name": "stdout",
     "output_type": "stream",
     "text": [
      "<class 'dict'> {'alice': 100, 'bob': 200, 'cindy': 300}\n"
     ]
    }
   ],
   "source": [
    "# GETting a JSON file, the shortcut way\n",
    "url = \"https://cs220.cs.wisc.edu/scores.json\"\n",
    "#Shortcut to bypass using json.loads()\n",
    "r = requests.get(url)\n",
    "r.raise_for_status()\n",
    "d2 = r.json()\n",
    "print(type(d2), d2)"
   ]
  },
  {
   "cell_type": "markdown",
   "metadata": {},
   "source": [
    "### Explore real-world JSON\n",
    "\n",
    "How to explore an unknown JSON?\n",
    "- If you run into a `dict`, try `.keys()` method to look at the keys of the dictionary, then use lookup process to explore further\n",
    "- If you run into a `list`, iterate over the list and print each item\n",
    "\n",
    "#### Weather for Northampton, MA\n",
    "- URL: https://api.weather.gov/gridpoints/BOX/18,79/forecast"
   ]
  },
  {
   "cell_type": "code",
   "execution_count": 11,
   "metadata": {},
   "outputs": [
    {
     "name": "stdout",
     "output_type": "stream",
     "text": [
      "<class 'dict'>\n"
     ]
    },
    {
     "data": {
      "text/plain": [
       "{'@context': ['https://geojson.org/geojson-ld/geojson-context.jsonld',\n",
       "  {'@version': '1.1',\n",
       "   'wx': 'https://api.weather.gov/ontology#',\n",
       "   'geo': 'http://www.opengis.net/ont/geosparql#',\n",
       "   'unit': 'http://codes.wmo.int/common/unit/',\n",
       "   '@vocab': 'https://api.weather.gov/ontology#'}],\n",
       " 'type': 'Feature',\n",
       " 'geometry': {'type': 'Polygon',\n",
       "  'coordinates': [[[-72.6741446, 42.3344671],\n",
       "    [-72.67896590000001, 42.313014599999995],\n",
       "    [-72.64994080000001, 42.309446099999995],\n",
       "    [-72.64511340000001, 42.330898299999994],\n",
       "    [-72.6741446, 42.3344671]]]},\n",
       " 'properties': {'units': 'us',\n",
       "  'forecastGenerator': 'BaselineForecastGenerator',\n",
       "  'generatedAt': '2024-11-05T22:40:56+00:00',\n",
       "  'updateTime': '2024-11-05T21:03:45+00:00',\n",
       "  'validTimes': '2024-11-05T15:00:00+00:00/P8DT6H',\n",
       "  'elevation': {'unitCode': 'wmoUnit:m', 'value': 60.0456},\n",
       "  'periods': [{'number': 1,\n",
       "    'name': 'This Afternoon',\n",
       "    'startTime': '2024-11-05T17:00:00-05:00',\n",
       "    'endTime': '2024-11-05T18:00:00-05:00',\n",
       "    'isDaytime': True,\n",
       "    'temperature': 72,\n",
       "    'temperatureUnit': 'F',\n",
       "    'temperatureTrend': '',\n",
       "    'probabilityOfPrecipitation': {'unitCode': 'wmoUnit:percent',\n",
       "     'value': None},\n",
       "    'windSpeed': '7 mph',\n",
       "    'windDirection': 'S',\n",
       "    'icon': 'https://api.weather.gov/icons/land/day/few?size=medium',\n",
       "    'shortForecast': 'Sunny',\n",
       "    'detailedForecast': 'Sunny, with a high near 72. South wind around 7 mph.'},\n",
       "   {'number': 2,\n",
       "    'name': 'Tonight',\n",
       "    'startTime': '2024-11-05T18:00:00-05:00',\n",
       "    'endTime': '2024-11-06T06:00:00-05:00',\n",
       "    'isDaytime': False,\n",
       "    'temperature': 57,\n",
       "    'temperatureUnit': 'F',\n",
       "    'temperatureTrend': '',\n",
       "    'probabilityOfPrecipitation': {'unitCode': 'wmoUnit:percent',\n",
       "     'value': None},\n",
       "    'windSpeed': '9 mph',\n",
       "    'windDirection': 'S',\n",
       "    'icon': 'https://api.weather.gov/icons/land/night/few?size=medium',\n",
       "    'shortForecast': 'Mostly Clear',\n",
       "    'detailedForecast': 'Mostly clear, with a low around 57. South wind around 9 mph.'},\n",
       "   {'number': 3,\n",
       "    'name': 'Wednesday',\n",
       "    'startTime': '2024-11-06T06:00:00-05:00',\n",
       "    'endTime': '2024-11-06T18:00:00-05:00',\n",
       "    'isDaytime': True,\n",
       "    'temperature': 78,\n",
       "    'temperatureUnit': 'F',\n",
       "    'temperatureTrend': '',\n",
       "    'probabilityOfPrecipitation': {'unitCode': 'wmoUnit:percent',\n",
       "     'value': None},\n",
       "    'windSpeed': '7 to 12 mph',\n",
       "    'windDirection': 'SW',\n",
       "    'icon': 'https://api.weather.gov/icons/land/day/sct?size=medium',\n",
       "    'shortForecast': 'Mostly Sunny',\n",
       "    'detailedForecast': 'Mostly sunny. High near 78, with temperatures falling to around 72 in the afternoon. Southwest wind 7 to 12 mph, with gusts as high as 22 mph.'},\n",
       "   {'number': 4,\n",
       "    'name': 'Wednesday Night',\n",
       "    'startTime': '2024-11-06T18:00:00-05:00',\n",
       "    'endTime': '2024-11-07T06:00:00-05:00',\n",
       "    'isDaytime': False,\n",
       "    'temperature': 51,\n",
       "    'temperatureUnit': 'F',\n",
       "    'temperatureTrend': '',\n",
       "    'probabilityOfPrecipitation': {'unitCode': 'wmoUnit:percent',\n",
       "     'value': None},\n",
       "    'windSpeed': '2 to 7 mph',\n",
       "    'windDirection': 'W',\n",
       "    'icon': 'https://api.weather.gov/icons/land/night/sct?size=medium',\n",
       "    'shortForecast': 'Partly Cloudy',\n",
       "    'detailedForecast': 'Partly cloudy, with a low around 51. West wind 2 to 7 mph.'},\n",
       "   {'number': 5,\n",
       "    'name': 'Thursday',\n",
       "    'startTime': '2024-11-07T06:00:00-05:00',\n",
       "    'endTime': '2024-11-07T18:00:00-05:00',\n",
       "    'isDaytime': True,\n",
       "    'temperature': 66,\n",
       "    'temperatureUnit': 'F',\n",
       "    'temperatureTrend': '',\n",
       "    'probabilityOfPrecipitation': {'unitCode': 'wmoUnit:percent',\n",
       "     'value': None},\n",
       "    'windSpeed': '5 to 10 mph',\n",
       "    'windDirection': 'W',\n",
       "    'icon': 'https://api.weather.gov/icons/land/day/rain/few?size=medium',\n",
       "    'shortForecast': 'Slight Chance Light Rain then Sunny',\n",
       "    'detailedForecast': 'A slight chance of rain between 7am and 8am. Sunny, with a high near 66. West wind 5 to 10 mph.'},\n",
       "   {'number': 6,\n",
       "    'name': 'Thursday Night',\n",
       "    'startTime': '2024-11-07T18:00:00-05:00',\n",
       "    'endTime': '2024-11-08T06:00:00-05:00',\n",
       "    'isDaytime': False,\n",
       "    'temperature': 38,\n",
       "    'temperatureUnit': 'F',\n",
       "    'temperatureTrend': '',\n",
       "    'probabilityOfPrecipitation': {'unitCode': 'wmoUnit:percent',\n",
       "     'value': None},\n",
       "    'windSpeed': '3 to 7 mph',\n",
       "    'windDirection': 'NW',\n",
       "    'icon': 'https://api.weather.gov/icons/land/night/few?size=medium',\n",
       "    'shortForecast': 'Mostly Clear',\n",
       "    'detailedForecast': 'Mostly clear, with a low around 38. Northwest wind 3 to 7 mph.'},\n",
       "   {'number': 7,\n",
       "    'name': 'Friday',\n",
       "    'startTime': '2024-11-08T06:00:00-05:00',\n",
       "    'endTime': '2024-11-08T18:00:00-05:00',\n",
       "    'isDaytime': True,\n",
       "    'temperature': 62,\n",
       "    'temperatureUnit': 'F',\n",
       "    'temperatureTrend': '',\n",
       "    'probabilityOfPrecipitation': {'unitCode': 'wmoUnit:percent',\n",
       "     'value': None},\n",
       "    'windSpeed': '3 to 10 mph',\n",
       "    'windDirection': 'W',\n",
       "    'icon': 'https://api.weather.gov/icons/land/day/few?size=medium',\n",
       "    'shortForecast': 'Sunny',\n",
       "    'detailedForecast': 'Sunny, with a high near 62. West wind 3 to 10 mph.'},\n",
       "   {'number': 8,\n",
       "    'name': 'Friday Night',\n",
       "    'startTime': '2024-11-08T18:00:00-05:00',\n",
       "    'endTime': '2024-11-09T06:00:00-05:00',\n",
       "    'isDaytime': False,\n",
       "    'temperature': 38,\n",
       "    'temperatureUnit': 'F',\n",
       "    'temperatureTrend': '',\n",
       "    'probabilityOfPrecipitation': {'unitCode': 'wmoUnit:percent',\n",
       "     'value': None},\n",
       "    'windSpeed': '9 mph',\n",
       "    'windDirection': 'NW',\n",
       "    'icon': 'https://api.weather.gov/icons/land/night/few?size=medium',\n",
       "    'shortForecast': 'Mostly Clear',\n",
       "    'detailedForecast': 'Mostly clear, with a low around 38. Northwest wind around 9 mph.'},\n",
       "   {'number': 9,\n",
       "    'name': 'Saturday',\n",
       "    'startTime': '2024-11-09T06:00:00-05:00',\n",
       "    'endTime': '2024-11-09T18:00:00-05:00',\n",
       "    'isDaytime': True,\n",
       "    'temperature': 56,\n",
       "    'temperatureUnit': 'F',\n",
       "    'temperatureTrend': '',\n",
       "    'probabilityOfPrecipitation': {'unitCode': 'wmoUnit:percent',\n",
       "     'value': None},\n",
       "    'windSpeed': '6 mph',\n",
       "    'windDirection': 'NW',\n",
       "    'icon': 'https://api.weather.gov/icons/land/day/few?size=medium',\n",
       "    'shortForecast': 'Sunny',\n",
       "    'detailedForecast': 'Sunny, with a high near 56. Northwest wind around 6 mph.'},\n",
       "   {'number': 10,\n",
       "    'name': 'Saturday Night',\n",
       "    'startTime': '2024-11-09T18:00:00-05:00',\n",
       "    'endTime': '2024-11-10T06:00:00-05:00',\n",
       "    'isDaytime': False,\n",
       "    'temperature': 34,\n",
       "    'temperatureUnit': 'F',\n",
       "    'temperatureTrend': '',\n",
       "    'probabilityOfPrecipitation': {'unitCode': 'wmoUnit:percent',\n",
       "     'value': None},\n",
       "    'windSpeed': '3 mph',\n",
       "    'windDirection': 'W',\n",
       "    'icon': 'https://api.weather.gov/icons/land/night/sct?size=medium',\n",
       "    'shortForecast': 'Partly Cloudy',\n",
       "    'detailedForecast': 'Partly cloudy, with a low around 34. West wind around 3 mph.'},\n",
       "   {'number': 11,\n",
       "    'name': 'Sunday',\n",
       "    'startTime': '2024-11-10T06:00:00-05:00',\n",
       "    'endTime': '2024-11-10T18:00:00-05:00',\n",
       "    'isDaytime': True,\n",
       "    'temperature': 58,\n",
       "    'temperatureUnit': 'F',\n",
       "    'temperatureTrend': '',\n",
       "    'probabilityOfPrecipitation': {'unitCode': 'wmoUnit:percent', 'value': 40},\n",
       "    'windSpeed': '2 to 7 mph',\n",
       "    'windDirection': 'S',\n",
       "    'icon': 'https://api.weather.gov/icons/land/day/rain/rain,40?size=medium',\n",
       "    'shortForecast': 'Chance Light Rain',\n",
       "    'detailedForecast': 'A chance of rain after 9am. Mostly cloudy, with a high near 58. South wind 2 to 7 mph. Chance of precipitation is 40%.'},\n",
       "   {'number': 12,\n",
       "    'name': 'Sunday Night',\n",
       "    'startTime': '2024-11-10T18:00:00-05:00',\n",
       "    'endTime': '2024-11-11T06:00:00-05:00',\n",
       "    'isDaytime': False,\n",
       "    'temperature': 46,\n",
       "    'temperatureUnit': 'F',\n",
       "    'temperatureTrend': '',\n",
       "    'probabilityOfPrecipitation': {'unitCode': 'wmoUnit:percent', 'value': 60},\n",
       "    'windSpeed': '6 mph',\n",
       "    'windDirection': 'S',\n",
       "    'icon': 'https://api.weather.gov/icons/land/night/rain,60?size=medium',\n",
       "    'shortForecast': 'Light Rain Likely',\n",
       "    'detailedForecast': 'Rain likely. Cloudy, with a low around 46. South wind around 6 mph. Chance of precipitation is 60%.'},\n",
       "   {'number': 13,\n",
       "    'name': 'Veterans Day',\n",
       "    'startTime': '2024-11-11T06:00:00-05:00',\n",
       "    'endTime': '2024-11-11T18:00:00-05:00',\n",
       "    'isDaytime': True,\n",
       "    'temperature': 64,\n",
       "    'temperatureUnit': 'F',\n",
       "    'temperatureTrend': '',\n",
       "    'probabilityOfPrecipitation': {'unitCode': 'wmoUnit:percent', 'value': 50},\n",
       "    'windSpeed': '6 to 9 mph',\n",
       "    'windDirection': 'SW',\n",
       "    'icon': 'https://api.weather.gov/icons/land/day/rain,50/rain?size=medium',\n",
       "    'shortForecast': 'Chance Light Rain',\n",
       "    'detailedForecast': 'A chance of rain. Partly sunny, with a high near 64. Southwest wind 6 to 9 mph. Chance of precipitation is 50%.'},\n",
       "   {'number': 14,\n",
       "    'name': 'Monday Night',\n",
       "    'startTime': '2024-11-11T18:00:00-05:00',\n",
       "    'endTime': '2024-11-12T06:00:00-05:00',\n",
       "    'isDaytime': False,\n",
       "    'temperature': 43,\n",
       "    'temperatureUnit': 'F',\n",
       "    'temperatureTrend': '',\n",
       "    'probabilityOfPrecipitation': {'unitCode': 'wmoUnit:percent',\n",
       "     'value': None},\n",
       "    'windSpeed': '3 to 7 mph',\n",
       "    'windDirection': 'W',\n",
       "    'icon': 'https://api.weather.gov/icons/land/night/rain?size=medium',\n",
       "    'shortForecast': 'Slight Chance Light Rain',\n",
       "    'detailedForecast': 'A slight chance of rain before 5am. Mostly cloudy, with a low around 43. West wind 3 to 7 mph.'}]}}"
      ]
     },
     "execution_count": 11,
     "metadata": {},
     "output_type": "execute_result"
    }
   ],
   "source": [
    "# GET the forecast\n",
    "url = \"https://api.weather.gov/gridpoints/BOX/18,79/forecast\"\n",
    "r = requests.get(url)\n",
    "r.raise_for_status()\n",
    "weather_data = r.json()\n",
    "\n",
    "# Explore the type of the data structure \n",
    "print(type(weather_data))\n",
    "\n",
    "# display the data\n",
    "weather_data\n"
   ]
  },
  {
   "cell_type": "code",
   "execution_count": 12,
   "metadata": {},
   "outputs": [
    {
     "name": "stdout",
     "output_type": "stream",
     "text": [
      "dict_keys(['@context', 'type', 'geometry', 'properties'])\n",
      "{'units': 'us', 'forecastGenerator': 'BaselineForecastGenerator', 'generatedAt': '2024-11-05T22:40:56+00:00', 'updateTime': '2024-11-05T21:03:45+00:00', 'validTimes': '2024-11-05T15:00:00+00:00/P8DT6H', 'elevation': {'unitCode': 'wmoUnit:m', 'value': 60.0456}, 'periods': [{'number': 1, 'name': 'This Afternoon', 'startTime': '2024-11-05T17:00:00-05:00', 'endTime': '2024-11-05T18:00:00-05:00', 'isDaytime': True, 'temperature': 72, 'temperatureUnit': 'F', 'temperatureTrend': '', 'probabilityOfPrecipitation': {'unitCode': 'wmoUnit:percent', 'value': None}, 'windSpeed': '7 mph', 'windDirection': 'S', 'icon': 'https://api.weather.gov/icons/land/day/few?size=medium', 'shortForecast': 'Sunny', 'detailedForecast': 'Sunny, with a high near 72. South wind around 7 mph.'}, {'number': 2, 'name': 'Tonight', 'startTime': '2024-11-05T18:00:00-05:00', 'endTime': '2024-11-06T06:00:00-05:00', 'isDaytime': False, 'temperature': 57, 'temperatureUnit': 'F', 'temperatureTrend': '', 'probabilityOfPrecipitation': {'unitCode': 'wmoUnit:percent', 'value': None}, 'windSpeed': '9 mph', 'windDirection': 'S', 'icon': 'https://api.weather.gov/icons/land/night/few?size=medium', 'shortForecast': 'Mostly Clear', 'detailedForecast': 'Mostly clear, with a low around 57. South wind around 9 mph.'}, {'number': 3, 'name': 'Wednesday', 'startTime': '2024-11-06T06:00:00-05:00', 'endTime': '2024-11-06T18:00:00-05:00', 'isDaytime': True, 'temperature': 78, 'temperatureUnit': 'F', 'temperatureTrend': '', 'probabilityOfPrecipitation': {'unitCode': 'wmoUnit:percent', 'value': None}, 'windSpeed': '7 to 12 mph', 'windDirection': 'SW', 'icon': 'https://api.weather.gov/icons/land/day/sct?size=medium', 'shortForecast': 'Mostly Sunny', 'detailedForecast': 'Mostly sunny. High near 78, with temperatures falling to around 72 in the afternoon. Southwest wind 7 to 12 mph, with gusts as high as 22 mph.'}, {'number': 4, 'name': 'Wednesday Night', 'startTime': '2024-11-06T18:00:00-05:00', 'endTime': '2024-11-07T06:00:00-05:00', 'isDaytime': False, 'temperature': 51, 'temperatureUnit': 'F', 'temperatureTrend': '', 'probabilityOfPrecipitation': {'unitCode': 'wmoUnit:percent', 'value': None}, 'windSpeed': '2 to 7 mph', 'windDirection': 'W', 'icon': 'https://api.weather.gov/icons/land/night/sct?size=medium', 'shortForecast': 'Partly Cloudy', 'detailedForecast': 'Partly cloudy, with a low around 51. West wind 2 to 7 mph.'}, {'number': 5, 'name': 'Thursday', 'startTime': '2024-11-07T06:00:00-05:00', 'endTime': '2024-11-07T18:00:00-05:00', 'isDaytime': True, 'temperature': 66, 'temperatureUnit': 'F', 'temperatureTrend': '', 'probabilityOfPrecipitation': {'unitCode': 'wmoUnit:percent', 'value': None}, 'windSpeed': '5 to 10 mph', 'windDirection': 'W', 'icon': 'https://api.weather.gov/icons/land/day/rain/few?size=medium', 'shortForecast': 'Slight Chance Light Rain then Sunny', 'detailedForecast': 'A slight chance of rain between 7am and 8am. Sunny, with a high near 66. West wind 5 to 10 mph.'}, {'number': 6, 'name': 'Thursday Night', 'startTime': '2024-11-07T18:00:00-05:00', 'endTime': '2024-11-08T06:00:00-05:00', 'isDaytime': False, 'temperature': 38, 'temperatureUnit': 'F', 'temperatureTrend': '', 'probabilityOfPrecipitation': {'unitCode': 'wmoUnit:percent', 'value': None}, 'windSpeed': '3 to 7 mph', 'windDirection': 'NW', 'icon': 'https://api.weather.gov/icons/land/night/few?size=medium', 'shortForecast': 'Mostly Clear', 'detailedForecast': 'Mostly clear, with a low around 38. Northwest wind 3 to 7 mph.'}, {'number': 7, 'name': 'Friday', 'startTime': '2024-11-08T06:00:00-05:00', 'endTime': '2024-11-08T18:00:00-05:00', 'isDaytime': True, 'temperature': 62, 'temperatureUnit': 'F', 'temperatureTrend': '', 'probabilityOfPrecipitation': {'unitCode': 'wmoUnit:percent', 'value': None}, 'windSpeed': '3 to 10 mph', 'windDirection': 'W', 'icon': 'https://api.weather.gov/icons/land/day/few?size=medium', 'shortForecast': 'Sunny', 'detailedForecast': 'Sunny, with a high near 62. West wind 3 to 10 mph.'}, {'number': 8, 'name': 'Friday Night', 'startTime': '2024-11-08T18:00:00-05:00', 'endTime': '2024-11-09T06:00:00-05:00', 'isDaytime': False, 'temperature': 38, 'temperatureUnit': 'F', 'temperatureTrend': '', 'probabilityOfPrecipitation': {'unitCode': 'wmoUnit:percent', 'value': None}, 'windSpeed': '9 mph', 'windDirection': 'NW', 'icon': 'https://api.weather.gov/icons/land/night/few?size=medium', 'shortForecast': 'Mostly Clear', 'detailedForecast': 'Mostly clear, with a low around 38. Northwest wind around 9 mph.'}, {'number': 9, 'name': 'Saturday', 'startTime': '2024-11-09T06:00:00-05:00', 'endTime': '2024-11-09T18:00:00-05:00', 'isDaytime': True, 'temperature': 56, 'temperatureUnit': 'F', 'temperatureTrend': '', 'probabilityOfPrecipitation': {'unitCode': 'wmoUnit:percent', 'value': None}, 'windSpeed': '6 mph', 'windDirection': 'NW', 'icon': 'https://api.weather.gov/icons/land/day/few?size=medium', 'shortForecast': 'Sunny', 'detailedForecast': 'Sunny, with a high near 56. Northwest wind around 6 mph.'}, {'number': 10, 'name': 'Saturday Night', 'startTime': '2024-11-09T18:00:00-05:00', 'endTime': '2024-11-10T06:00:00-05:00', 'isDaytime': False, 'temperature': 34, 'temperatureUnit': 'F', 'temperatureTrend': '', 'probabilityOfPrecipitation': {'unitCode': 'wmoUnit:percent', 'value': None}, 'windSpeed': '3 mph', 'windDirection': 'W', 'icon': 'https://api.weather.gov/icons/land/night/sct?size=medium', 'shortForecast': 'Partly Cloudy', 'detailedForecast': 'Partly cloudy, with a low around 34. West wind around 3 mph.'}, {'number': 11, 'name': 'Sunday', 'startTime': '2024-11-10T06:00:00-05:00', 'endTime': '2024-11-10T18:00:00-05:00', 'isDaytime': True, 'temperature': 58, 'temperatureUnit': 'F', 'temperatureTrend': '', 'probabilityOfPrecipitation': {'unitCode': 'wmoUnit:percent', 'value': 40}, 'windSpeed': '2 to 7 mph', 'windDirection': 'S', 'icon': 'https://api.weather.gov/icons/land/day/rain/rain,40?size=medium', 'shortForecast': 'Chance Light Rain', 'detailedForecast': 'A chance of rain after 9am. Mostly cloudy, with a high near 58. South wind 2 to 7 mph. Chance of precipitation is 40%.'}, {'number': 12, 'name': 'Sunday Night', 'startTime': '2024-11-10T18:00:00-05:00', 'endTime': '2024-11-11T06:00:00-05:00', 'isDaytime': False, 'temperature': 46, 'temperatureUnit': 'F', 'temperatureTrend': '', 'probabilityOfPrecipitation': {'unitCode': 'wmoUnit:percent', 'value': 60}, 'windSpeed': '6 mph', 'windDirection': 'S', 'icon': 'https://api.weather.gov/icons/land/night/rain,60?size=medium', 'shortForecast': 'Light Rain Likely', 'detailedForecast': 'Rain likely. Cloudy, with a low around 46. South wind around 6 mph. Chance of precipitation is 60%.'}, {'number': 13, 'name': 'Veterans Day', 'startTime': '2024-11-11T06:00:00-05:00', 'endTime': '2024-11-11T18:00:00-05:00', 'isDaytime': True, 'temperature': 64, 'temperatureUnit': 'F', 'temperatureTrend': '', 'probabilityOfPrecipitation': {'unitCode': 'wmoUnit:percent', 'value': 50}, 'windSpeed': '6 to 9 mph', 'windDirection': 'SW', 'icon': 'https://api.weather.gov/icons/land/day/rain,50/rain?size=medium', 'shortForecast': 'Chance Light Rain', 'detailedForecast': 'A chance of rain. Partly sunny, with a high near 64. Southwest wind 6 to 9 mph. Chance of precipitation is 50%.'}, {'number': 14, 'name': 'Monday Night', 'startTime': '2024-11-11T18:00:00-05:00', 'endTime': '2024-11-12T06:00:00-05:00', 'isDaytime': False, 'temperature': 43, 'temperatureUnit': 'F', 'temperatureTrend': '', 'probabilityOfPrecipitation': {'unitCode': 'wmoUnit:percent', 'value': None}, 'windSpeed': '3 to 7 mph', 'windDirection': 'W', 'icon': 'https://api.weather.gov/icons/land/night/rain?size=medium', 'shortForecast': 'Slight Chance Light Rain', 'detailedForecast': 'A slight chance of rain before 5am. Mostly cloudy, with a low around 43. West wind 3 to 7 mph.'}]}\n",
      "<class 'dict'>\n"
     ]
    }
   ],
   "source": [
    "# TODO: display the keys of the weather_data dict\n",
    "print(weather_data.keys())\n",
    "\n",
    "# TODO: lookup the value corresponding to the 'properties'\n",
    "print(weather_data['properties'])\n",
    "\n",
    "# TODO: you know what to do next ... explore type again\n",
    "print(type(weather_data['properties']))"
   ]
  },
  {
   "cell_type": "code",
   "execution_count": 13,
   "metadata": {},
   "outputs": [
    {
     "name": "stdout",
     "output_type": "stream",
     "text": [
      "dict_keys(['units', 'forecastGenerator', 'generatedAt', 'updateTime', 'validTimes', 'elevation', 'periods'])\n",
      "[{'number': 1, 'name': 'This Afternoon', 'startTime': '2024-11-05T17:00:00-05:00', 'endTime': '2024-11-05T18:00:00-05:00', 'isDaytime': True, 'temperature': 72, 'temperatureUnit': 'F', 'temperatureTrend': '', 'probabilityOfPrecipitation': {'unitCode': 'wmoUnit:percent', 'value': None}, 'windSpeed': '7 mph', 'windDirection': 'S', 'icon': 'https://api.weather.gov/icons/land/day/few?size=medium', 'shortForecast': 'Sunny', 'detailedForecast': 'Sunny, with a high near 72. South wind around 7 mph.'}, {'number': 2, 'name': 'Tonight', 'startTime': '2024-11-05T18:00:00-05:00', 'endTime': '2024-11-06T06:00:00-05:00', 'isDaytime': False, 'temperature': 57, 'temperatureUnit': 'F', 'temperatureTrend': '', 'probabilityOfPrecipitation': {'unitCode': 'wmoUnit:percent', 'value': None}, 'windSpeed': '9 mph', 'windDirection': 'S', 'icon': 'https://api.weather.gov/icons/land/night/few?size=medium', 'shortForecast': 'Mostly Clear', 'detailedForecast': 'Mostly clear, with a low around 57. South wind around 9 mph.'}, {'number': 3, 'name': 'Wednesday', 'startTime': '2024-11-06T06:00:00-05:00', 'endTime': '2024-11-06T18:00:00-05:00', 'isDaytime': True, 'temperature': 78, 'temperatureUnit': 'F', 'temperatureTrend': '', 'probabilityOfPrecipitation': {'unitCode': 'wmoUnit:percent', 'value': None}, 'windSpeed': '7 to 12 mph', 'windDirection': 'SW', 'icon': 'https://api.weather.gov/icons/land/day/sct?size=medium', 'shortForecast': 'Mostly Sunny', 'detailedForecast': 'Mostly sunny. High near 78, with temperatures falling to around 72 in the afternoon. Southwest wind 7 to 12 mph, with gusts as high as 22 mph.'}, {'number': 4, 'name': 'Wednesday Night', 'startTime': '2024-11-06T18:00:00-05:00', 'endTime': '2024-11-07T06:00:00-05:00', 'isDaytime': False, 'temperature': 51, 'temperatureUnit': 'F', 'temperatureTrend': '', 'probabilityOfPrecipitation': {'unitCode': 'wmoUnit:percent', 'value': None}, 'windSpeed': '2 to 7 mph', 'windDirection': 'W', 'icon': 'https://api.weather.gov/icons/land/night/sct?size=medium', 'shortForecast': 'Partly Cloudy', 'detailedForecast': 'Partly cloudy, with a low around 51. West wind 2 to 7 mph.'}, {'number': 5, 'name': 'Thursday', 'startTime': '2024-11-07T06:00:00-05:00', 'endTime': '2024-11-07T18:00:00-05:00', 'isDaytime': True, 'temperature': 66, 'temperatureUnit': 'F', 'temperatureTrend': '', 'probabilityOfPrecipitation': {'unitCode': 'wmoUnit:percent', 'value': None}, 'windSpeed': '5 to 10 mph', 'windDirection': 'W', 'icon': 'https://api.weather.gov/icons/land/day/rain/few?size=medium', 'shortForecast': 'Slight Chance Light Rain then Sunny', 'detailedForecast': 'A slight chance of rain between 7am and 8am. Sunny, with a high near 66. West wind 5 to 10 mph.'}, {'number': 6, 'name': 'Thursday Night', 'startTime': '2024-11-07T18:00:00-05:00', 'endTime': '2024-11-08T06:00:00-05:00', 'isDaytime': False, 'temperature': 38, 'temperatureUnit': 'F', 'temperatureTrend': '', 'probabilityOfPrecipitation': {'unitCode': 'wmoUnit:percent', 'value': None}, 'windSpeed': '3 to 7 mph', 'windDirection': 'NW', 'icon': 'https://api.weather.gov/icons/land/night/few?size=medium', 'shortForecast': 'Mostly Clear', 'detailedForecast': 'Mostly clear, with a low around 38. Northwest wind 3 to 7 mph.'}, {'number': 7, 'name': 'Friday', 'startTime': '2024-11-08T06:00:00-05:00', 'endTime': '2024-11-08T18:00:00-05:00', 'isDaytime': True, 'temperature': 62, 'temperatureUnit': 'F', 'temperatureTrend': '', 'probabilityOfPrecipitation': {'unitCode': 'wmoUnit:percent', 'value': None}, 'windSpeed': '3 to 10 mph', 'windDirection': 'W', 'icon': 'https://api.weather.gov/icons/land/day/few?size=medium', 'shortForecast': 'Sunny', 'detailedForecast': 'Sunny, with a high near 62. West wind 3 to 10 mph.'}, {'number': 8, 'name': 'Friday Night', 'startTime': '2024-11-08T18:00:00-05:00', 'endTime': '2024-11-09T06:00:00-05:00', 'isDaytime': False, 'temperature': 38, 'temperatureUnit': 'F', 'temperatureTrend': '', 'probabilityOfPrecipitation': {'unitCode': 'wmoUnit:percent', 'value': None}, 'windSpeed': '9 mph', 'windDirection': 'NW', 'icon': 'https://api.weather.gov/icons/land/night/few?size=medium', 'shortForecast': 'Mostly Clear', 'detailedForecast': 'Mostly clear, with a low around 38. Northwest wind around 9 mph.'}, {'number': 9, 'name': 'Saturday', 'startTime': '2024-11-09T06:00:00-05:00', 'endTime': '2024-11-09T18:00:00-05:00', 'isDaytime': True, 'temperature': 56, 'temperatureUnit': 'F', 'temperatureTrend': '', 'probabilityOfPrecipitation': {'unitCode': 'wmoUnit:percent', 'value': None}, 'windSpeed': '6 mph', 'windDirection': 'NW', 'icon': 'https://api.weather.gov/icons/land/day/few?size=medium', 'shortForecast': 'Sunny', 'detailedForecast': 'Sunny, with a high near 56. Northwest wind around 6 mph.'}, {'number': 10, 'name': 'Saturday Night', 'startTime': '2024-11-09T18:00:00-05:00', 'endTime': '2024-11-10T06:00:00-05:00', 'isDaytime': False, 'temperature': 34, 'temperatureUnit': 'F', 'temperatureTrend': '', 'probabilityOfPrecipitation': {'unitCode': 'wmoUnit:percent', 'value': None}, 'windSpeed': '3 mph', 'windDirection': 'W', 'icon': 'https://api.weather.gov/icons/land/night/sct?size=medium', 'shortForecast': 'Partly Cloudy', 'detailedForecast': 'Partly cloudy, with a low around 34. West wind around 3 mph.'}, {'number': 11, 'name': 'Sunday', 'startTime': '2024-11-10T06:00:00-05:00', 'endTime': '2024-11-10T18:00:00-05:00', 'isDaytime': True, 'temperature': 58, 'temperatureUnit': 'F', 'temperatureTrend': '', 'probabilityOfPrecipitation': {'unitCode': 'wmoUnit:percent', 'value': 40}, 'windSpeed': '2 to 7 mph', 'windDirection': 'S', 'icon': 'https://api.weather.gov/icons/land/day/rain/rain,40?size=medium', 'shortForecast': 'Chance Light Rain', 'detailedForecast': 'A chance of rain after 9am. Mostly cloudy, with a high near 58. South wind 2 to 7 mph. Chance of precipitation is 40%.'}, {'number': 12, 'name': 'Sunday Night', 'startTime': '2024-11-10T18:00:00-05:00', 'endTime': '2024-11-11T06:00:00-05:00', 'isDaytime': False, 'temperature': 46, 'temperatureUnit': 'F', 'temperatureTrend': '', 'probabilityOfPrecipitation': {'unitCode': 'wmoUnit:percent', 'value': 60}, 'windSpeed': '6 mph', 'windDirection': 'S', 'icon': 'https://api.weather.gov/icons/land/night/rain,60?size=medium', 'shortForecast': 'Light Rain Likely', 'detailedForecast': 'Rain likely. Cloudy, with a low around 46. South wind around 6 mph. Chance of precipitation is 60%.'}, {'number': 13, 'name': 'Veterans Day', 'startTime': '2024-11-11T06:00:00-05:00', 'endTime': '2024-11-11T18:00:00-05:00', 'isDaytime': True, 'temperature': 64, 'temperatureUnit': 'F', 'temperatureTrend': '', 'probabilityOfPrecipitation': {'unitCode': 'wmoUnit:percent', 'value': 50}, 'windSpeed': '6 to 9 mph', 'windDirection': 'SW', 'icon': 'https://api.weather.gov/icons/land/day/rain,50/rain?size=medium', 'shortForecast': 'Chance Light Rain', 'detailedForecast': 'A chance of rain. Partly sunny, with a high near 64. Southwest wind 6 to 9 mph. Chance of precipitation is 50%.'}, {'number': 14, 'name': 'Monday Night', 'startTime': '2024-11-11T18:00:00-05:00', 'endTime': '2024-11-12T06:00:00-05:00', 'isDaytime': False, 'temperature': 43, 'temperatureUnit': 'F', 'temperatureTrend': '', 'probabilityOfPrecipitation': {'unitCode': 'wmoUnit:percent', 'value': None}, 'windSpeed': '3 to 7 mph', 'windDirection': 'W', 'icon': 'https://api.weather.gov/icons/land/night/rain?size=medium', 'shortForecast': 'Slight Chance Light Rain', 'detailedForecast': 'A slight chance of rain before 5am. Mostly cloudy, with a low around 43. West wind 3 to 7 mph.'}]\n",
      "<class 'list'>\n"
     ]
    }
   ],
   "source": [
    "# TODO: display the keys of the properties dict\n",
    "print(weather_data['properties'].keys())\n",
    "\n",
    "# TODO: lookup the value corresponding to the 'periods'\n",
    "print(weather_data['properties']['periods'])\n",
    "\n",
    "# TODO: you know what to do next ... explore type again\n",
    "print(type(weather_data['properties']['periods']))"
   ]
  },
  {
   "cell_type": "code",
   "execution_count": null,
   "metadata": {},
   "outputs": [],
   "source": [
    "# TODO: extract periods list into a variable\n",
    "periods_list = weather_data['properties']['periods']\n",
    "\n",
    "# TODO: create a DataFrame using periods_list\n",
    "period_df = pd.DataFrame(periods_list)\n",
    "\n",
    "# TODO: What does each inner data structure represent in your DataFrame?\n",
    "#       Keep in mind that outer data structure is a list.\n",
    "\n",
    "period_df.head()"
   ]
  },
  {
   "cell_type": "markdown",
   "metadata": {},
   "source": [
    "What is the maximum and minimum observed temperatures? Include the temperatureUnit in your display"
   ]
  },
  {
   "cell_type": "code",
   "execution_count": null,
   "metadata": {},
   "outputs": [],
   "source": [
    "min_temp = period_df['temperature'].min()\n",
    "idx_min = period_df['temperature'].idxmin()\n",
    "min_unit = period_df.loc[idx_min, 'temperatureUnit']\n",
    "\n",
    "max_temp = period_df['temperature'].max()\n",
    "idx_max = period_df['temperature'].idxmax()\n",
    "max_unit = period_df.loc[idx_max, 'temperatureUnit']\n",
    "\n",
    "print(\"Minimum observed temperature is: {} degree {}\".format(min_temp, min_unit))\n",
    "print(\"Maximum observed temperature is: {} degree {}\".format(max_temp, max_unit))"
   ]
  },
  {
   "cell_type": "markdown",
   "metadata": {},
   "source": [
    "Which days' `detailedForecast` contain `thunderstorms`?"
   ]
  },
  {
   "cell_type": "code",
   "execution_count": null,
   "metadata": {},
   "outputs": [],
   "source": [
    "storm_days_df = period_df[period_df[\"detailedForecast\"].str.contains(\"thunderstorms\")]\n",
    "storm_days_df"
   ]
  },
  {
   "cell_type": "markdown",
   "metadata": {},
   "source": [
    " Which day's `detailedForecast` has the most lengthy description?"
   ]
  },
  {
   "cell_type": "code",
   "execution_count": null,
   "metadata": {},
   "outputs": [],
   "source": [
    "idx_max_desc = period_df['detailedForecast'].str.len().idxmax()\n",
    "period_df.iloc[idx_max_desc]['name']"
   ]
  },
  {
   "cell_type": "markdown",
   "metadata": {},
   "source": [
    "Save the data as a CSV file"
   ]
  },
  {
   "cell_type": "code",
   "execution_count": null,
   "metadata": {},
   "outputs": [],
   "source": [
    "period_df.to_csv(\"weather.csv\", index=False)"
   ]
  },
  {
   "cell_type": "code",
   "execution_count": null,
   "metadata": {},
   "outputs": [],
   "source": []
  }
 ],
 "metadata": {
  "kernelspec": {
   "display_name": "base",
   "language": "python",
   "name": "python3"
  },
  "language_info": {
   "codemirror_mode": {
    "name": "ipython",
    "version": 3
   },
   "file_extension": ".py",
   "mimetype": "text/x-python",
   "name": "python",
   "nbconvert_exporter": "python",
   "pygments_lexer": "ipython3",
   "version": "3.10.6"
  }
 },
 "nbformat": 4,
 "nbformat_minor": 2
}
