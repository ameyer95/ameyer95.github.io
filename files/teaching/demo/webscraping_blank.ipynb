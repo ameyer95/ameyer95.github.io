{
 "cells": [
  {
   "cell_type": "code",
   "execution_count": 2,
   "metadata": {},
   "outputs": [],
   "source": [
    "# New module\n",
    "import requests\n",
    "\n",
    "# Known modules\n",
    "import json\n",
    "import pandas as pd\n"
   ]
  },
  {
   "cell_type": "markdown",
   "metadata": {},
   "source": [
    "## Review: JSON"
   ]
  },
  {
   "cell_type": "code",
   "execution_count": 3,
   "metadata": {},
   "outputs": [],
   "source": [
    "# load json file from \"~/Downloads/scores.json\"\n",
    "filename = \"/Users/annameyer/Downloads/scores.json\"\n",
    "\n",
    "# TODO open the file"
   ]
  },
  {
   "cell_type": "markdown",
   "metadata": {},
   "source": [
    "What is the type of `scores`?"
   ]
  },
  {
   "cell_type": "code",
   "execution_count": 4,
   "metadata": {},
   "outputs": [],
   "source": [
    "# TODO"
   ]
  },
  {
   "cell_type": "markdown",
   "metadata": {},
   "source": [
    "What are they keys in `scores`?"
   ]
  },
  {
   "cell_type": "code",
   "execution_count": 5,
   "metadata": {},
   "outputs": [],
   "source": [
    "# TODO"
   ]
  },
  {
   "cell_type": "markdown",
   "metadata": {},
   "source": [
    "What is the value of `scores[\"bob\"]`?"
   ]
  },
  {
   "cell_type": "code",
   "execution_count": 6,
   "metadata": {},
   "outputs": [],
   "source": [
    "# TODO"
   ]
  },
  {
   "cell_type": "markdown",
   "metadata": {},
   "source": [
    "Let's look at a more interesting JSON file.\n",
    "\n",
    "Kiva is a microlending platform that gives out small loans to people around the world.\n",
    "\n",
    "We'll load in a JSON file containing details about people who got loans through Kiva."
   ]
  },
  {
   "cell_type": "code",
   "execution_count": 7,
   "metadata": {},
   "outputs": [],
   "source": [
    "filename = \"/Users/annameyer/Downloads/kiva.json\"\n",
    "\n",
    "# TODO open the file"
   ]
  },
  {
   "cell_type": "markdown",
   "metadata": {},
   "source": [
    "The file is large, so we won't print it all."
   ]
  },
  {
   "cell_type": "code",
   "execution_count": 8,
   "metadata": {},
   "outputs": [],
   "source": [
    "# print type\n",
    "# TODO"
   ]
  },
  {
   "cell_type": "code",
   "execution_count": 9,
   "metadata": {},
   "outputs": [],
   "source": [
    "# print keys\n",
    "# TODO"
   ]
  },
  {
   "cell_type": "code",
   "execution_count": 10,
   "metadata": {},
   "outputs": [],
   "source": [
    "# explore data\n",
    "# TODO"
   ]
  },
  {
   "cell_type": "code",
   "execution_count": 11,
   "metadata": {},
   "outputs": [],
   "source": [
    "# TODO"
   ]
  },
  {
   "cell_type": "markdown",
   "metadata": {},
   "source": [
    "We'll continue through this process until eventually we reach data (usually, when it stops being a dictionary)"
   ]
  },
  {
   "cell_type": "code",
   "execution_count": 12,
   "metadata": {},
   "outputs": [],
   "source": [
    "# type(kiva['data']['lend']['loans']['values'])"
   ]
  },
  {
   "cell_type": "code",
   "execution_count": 13,
   "metadata": {},
   "outputs": [],
   "source": [
    "# type(kiva['data']['lend']['loans']['values'][0])"
   ]
  },
  {
   "cell_type": "code",
   "execution_count": 14,
   "metadata": {},
   "outputs": [],
   "source": [
    "# kiva['data']['lend']['loans']['values'][0].keys()"
   ]
  },
  {
   "cell_type": "markdown",
   "metadata": {},
   "source": [
    "Print the name of each loan recipient"
   ]
  },
  {
   "cell_type": "code",
   "execution_count": 15,
   "metadata": {},
   "outputs": [],
   "source": [
    "# print the name of each person\n",
    "\n",
    "# TODO"
   ]
  },
  {
   "cell_type": "markdown",
   "metadata": {},
   "source": [
    "See what Elizabeth's loan amount was, and what country she lives in"
   ]
  },
  {
   "cell_type": "code",
   "execution_count": 16,
   "metadata": {},
   "outputs": [],
   "source": [
    "# first, see structure of geocode\n",
    "# TODO \n",
    "\n",
    "# then print the keys\n",
    "# TODO \n",
    "\n",
    "# then see structure\n",
    "# TODO\n",
    "\n",
    "# then print the keys\n",
    "# TODO"
   ]
  },
  {
   "cell_type": "code",
   "execution_count": 17,
   "metadata": {},
   "outputs": [],
   "source": [
    "# iterate through kiva['data']['lend']['loans']['values']\n",
    "\n",
    "# TODO"
   ]
  },
  {
   "cell_type": "markdown",
   "metadata": {},
   "source": [
    "## Warm up: Scraping text\n",
    "The easiest case is when a webpage contains only text, such as [https://raw.githubusercontent.com/annapmeyer/annapmeyer.github.io/refs/heads/anna/files/teaching/demo/hello.txt](https://raw.githubusercontent.com/annapmeyer/annapmeyer.github.io/refs/heads/anna/files/teaching/demo/hello.txt)\n",
    "\n",
    "We'll use the Python library `requests`."
   ]
  },
  {
   "cell_type": "code",
   "execution_count": 18,
   "metadata": {},
   "outputs": [],
   "source": [
    "url = \"https://raw.githubusercontent.com/annapmeyer/annapmeyer.github.io/refs/heads/anna/files/teaching/demo/hello.txt\"\n",
    "\n",
    "# TODO make request, print status code and text"
   ]
  },
  {
   "cell_type": "code",
   "execution_count": 19,
   "metadata": {},
   "outputs": [
    {
     "name": "stdout",
     "output_type": "stream",
     "text": [
      "404\n",
      "404: Not Found\n"
     ]
    }
   ],
   "source": [
    "typo_url = \"https://raw.githubusercontent.com/annapmeyer/annapmeyer.github.io/refs/heads/anna/files/teaching/demo/hello.txttttt\"\n",
    "r = requests.get(typo_url)\n",
    "print(r.status_code)\n",
    "print(r.text)"
   ]
  },
  {
   "cell_type": "code",
   "execution_count": 21,
   "metadata": {},
   "outputs": [
    {
     "data": {
      "text/plain": [
       "'404: Not Found'"
      ]
     },
     "execution_count": 21,
     "metadata": {},
     "output_type": "execute_result"
    }
   ],
   "source": [
    "# Instead of using an assert, we often use raise_for_status()\n",
    "r = requests.get(typo_url)\n",
    "\n",
    "# TODO instead of using assert, use raise_for_status\n",
    "\n",
    "r.text\n",
    "\n",
    "# Note the error you get.... We will use this in the next cell"
   ]
  },
  {
   "cell_type": "code",
   "execution_count": 22,
   "metadata": {},
   "outputs": [],
   "source": [
    "# Let's try to catch that error\n",
    "\n",
    "# TODO implement try/except block\n"
   ]
  },
  {
   "cell_type": "markdown",
   "metadata": {},
   "source": [
    "## Scraping JSON"
   ]
  },
  {
   "cell_type": "markdown",
   "metadata": {},
   "source": [
    "- `json.load` (FILE_OBJECT)\n",
    "- `json.loads` (STRING)"
   ]
  },
  {
   "cell_type": "code",
   "execution_count": 23,
   "metadata": {},
   "outputs": [],
   "source": [
    "# GETting a JSON file, the long way\n",
    "url = \"https://raw.githubusercontent.com/annapmeyer/annapmeyer.github.io/refs/heads/anna/files/teaching/demo/scores.json\"\n",
    "\n",
    "# TODO get the data"
   ]
  },
  {
   "cell_type": "code",
   "execution_count": 24,
   "metadata": {},
   "outputs": [],
   "source": [
    "# GETting a JSON file, the shortcut way\n",
    "url = \"https://raw.githubusercontent.com/annapmeyer/annapmeyer.github.io/refs/heads/anna/files/teaching/demo/scores.json\"\n",
    "#Shortcut to bypass using json.loads()\n",
    "r = requests.get(url)\n",
    "r.raise_for_status()\n",
    "\n",
    "# TODO add shortcut to get the data d2\n",
    "\n",
    "# print(type(d2), d2)"
   ]
  },
  {
   "cell_type": "markdown",
   "metadata": {},
   "source": [
    "### Explore real-world JSON\n",
    "\n",
    "How to explore an unknown JSON?\n",
    "- If you run into a `dict`, try `.keys()` method to look at the keys of the dictionary, then use lookup process to explore further\n",
    "- If you run into a `list`, iterate over the list and print each item\n",
    "\n",
    "#### Weather for Northampton, MA\n",
    "- URL: https://api.weather.gov/gridpoints/BOX/18,79/forecast"
   ]
  },
  {
   "cell_type": "code",
   "execution_count": 25,
   "metadata": {},
   "outputs": [],
   "source": [
    "# GET the forecast\n",
    "url = \"https://api.weather.gov/gridpoints/BOX/18,79/forecast\"\n",
    "\n",
    "# TODO get the data\n",
    "\n",
    "# Explore the type of the data structure \n",
    "# print(type(weather_data))\n",
    "\n",
    "# display the data\n",
    "# weather_data\n"
   ]
  },
  {
   "cell_type": "code",
   "execution_count": 26,
   "metadata": {},
   "outputs": [],
   "source": [
    "# TODO: display the keys of the weather_data dict\n",
    "\n",
    "# TODO: lookup the value corresponding to the 'properties'\n",
    "\n",
    "# TODO: you know what to do next ... explore type again\n"
   ]
  },
  {
   "cell_type": "code",
   "execution_count": 27,
   "metadata": {},
   "outputs": [],
   "source": [
    "# TODO: display the keys of the properties dict\n",
    "\n",
    "# TODO: lookup the value corresponding to the 'periods'\n",
    "\n",
    "# TODO: you know what to do next ... explore type again\n"
   ]
  },
  {
   "cell_type": "code",
   "execution_count": 28,
   "metadata": {},
   "outputs": [],
   "source": [
    "# TODO: extract periods list into a variable\n",
    "\n",
    "# TODO: create a DataFrame using periods_list\n",
    "\n",
    "# TODO: What does each inner data structure represent in your DataFrame?\n",
    "#       Keep in mind that outer data structure is a list.\n",
    "\n"
   ]
  },
  {
   "cell_type": "markdown",
   "metadata": {},
   "source": [
    "What is the maximum and minimum observed temperatures? Include the temperatureUnit in your display"
   ]
  },
  {
   "cell_type": "code",
   "execution_count": 29,
   "metadata": {},
   "outputs": [],
   "source": [
    "# TODO get min_temp\n",
    "\n",
    "# TODO get idx_min using idxmin()\n",
    "\n",
    "# TODO get min unit (stored at [idx_min, 'temperatureUnit'])\n",
    "\n",
    "# TODO same thing for max\n",
    "\n",
    "\n",
    "# print(\"Minimum observed temperature is: {} degree {}\".format(min_temp, min_unit))\n",
    "# print(\"Maximum observed temperature is: {} degree {}\".format(max_temp, max_unit))"
   ]
  },
  {
   "cell_type": "markdown",
   "metadata": {},
   "source": [
    "Which days' `detailedForecast` contain `thunderstorms`?\n",
    "\n",
    "*Hint:* use `str.contains()`"
   ]
  },
  {
   "cell_type": "code",
   "execution_count": 30,
   "metadata": {},
   "outputs": [],
   "source": [
    "# TODO"
   ]
  },
  {
   "cell_type": "markdown",
   "metadata": {},
   "source": [
    " Which day's `detailedForecast` has the most lengthy description?\n",
    "\n",
    " *Hint:* Use `str.len().idxmax()`. Then access the `name` key."
   ]
  },
  {
   "cell_type": "code",
   "execution_count": 31,
   "metadata": {},
   "outputs": [],
   "source": [
    "# TODO"
   ]
  },
  {
   "cell_type": "markdown",
   "metadata": {},
   "source": [
    "Save the data as a CSV file"
   ]
  },
  {
   "cell_type": "code",
   "execution_count": 32,
   "metadata": {},
   "outputs": [],
   "source": [
    "# TODO"
   ]
  },
  {
   "cell_type": "code",
   "execution_count": null,
   "metadata": {},
   "outputs": [],
   "source": []
  }
 ],
 "metadata": {
  "kernelspec": {
   "display_name": "base",
   "language": "python",
   "name": "python3"
  },
  "language_info": {
   "codemirror_mode": {
    "name": "ipython",
    "version": 3
   },
   "file_extension": ".py",
   "mimetype": "text/x-python",
   "name": "python",
   "nbconvert_exporter": "python",
   "pygments_lexer": "ipython3",
   "version": "3.10.6"
  }
 },
 "nbformat": 4,
 "nbformat_minor": 2
}
